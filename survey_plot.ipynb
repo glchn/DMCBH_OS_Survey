{
 "cells": [
  {
   "cell_type": "code",
   "execution_count": null,
   "id": "72ded92c-acc8-457b-a87a-67802063bc0e",
   "metadata": {},
   "outputs": [],
   "source": [
    "import numpy as np \n",
    "import matplotlib.pyplot as plt \n",
    "import csv\n",
    "import pandas as pd\n",
    "\n",
    "questions = [\"Recruitment\", \n",
    "             \"Strategic Plan\", \n",
    "             \"Philanthropy\", \n",
    "             \"Competitiveness\", \n",
    "             \"Partnerships\",\n",
    "             \"Funding\",\n",
    "             \"Admin\",\n",
    "             \"Publishing\",\n",
    "             \"Data\",\n",
    "             \"Commercialization\"]\n",
    "\n",
    "q_53 = pd.read_csv(\"question53.csv\", nrows=10)\n",
    "q_53 = q_53[\"Count\"]\n",
    "q_54 = pd.read_csv(\"question54.csv\", nrows=10)\n",
    "q_54 = q_54[\"Count\"]\n",
    "\n",
    "# q_53 = [26, 22, 27, 30, 24, 22, 18, 32, 36, 16]\n",
    "# q_54 = [1, 0, 1, 3, 3, 2, 2, 4, 1, 0]\n",
    "  \n",
    "X_axis = np.arange(len(questions))\n",
    "  \n",
    "plt.bar(X_axis - 0.2, q_53, 0.4, label = 'Advantage')\n",
    "plt.bar(X_axis + 0.2, q_54, 0.4, label = 'Disadvantage')\n",
    "  \n",
    "plt.xticks(X_axis, questions, fontweight=\"bold\", rotation='45')\n",
    "plt.rcParams[\"figure.figsize\"] = (20, 8)\n",
    "plt.rc('font', size=12)  \n",
    "plt.yticks(fontweight=\"bold\")\n",
    "plt.ylabel(\"Number of Selections\", fontweight=\"bold\")\n",
    "plt.legend()\n",
    "plt.savefig('question53-54.png', bbox_inches=\"tight\")\n",
    "plt.show()"
   ]
  }
 ],
 "metadata": {
  "kernelspec": {
   "display_name": "Python 3 (ipykernel)",
   "language": "python",
   "name": "python3"
  },
  "language_info": {
   "codemirror_mode": {
    "name": "ipython",
    "version": 3
   },
   "file_extension": ".py",
   "mimetype": "text/x-python",
   "name": "python",
   "nbconvert_exporter": "python",
   "pygments_lexer": "ipython3",
   "version": "3.9.7"
  }
 },
 "nbformat": 4,
 "nbformat_minor": 5
}
